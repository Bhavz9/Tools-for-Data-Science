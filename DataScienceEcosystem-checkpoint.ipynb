{
 "cells": [
  {
   "cell_type": "markdown",
   "id": "f0db3689-0f9a-4e74-bc08-680231834490",
   "metadata": {},
   "source": [
    "# Data Science Tools and Ecosystem"
   ]
  },
  {
   "cell_type": "markdown",
   "id": "49207437-d69e-400a-aa34-101e094c5f1c",
   "metadata": {},
   "source": [
    "In this notebook, Data Science Tools and Ecosystem are summarized."
   ]
  },
  {
   "cell_type": "markdown",
   "id": "99122878-f94e-4442-b6e2-f07e8b57721d",
   "metadata": {},
   "source": [
    "**Objectives:**\n",
    "- List popular languages for Data Science\n",
    "- Commonly used libraries used by Data Scientists\n",
    "- Data Science Tools\n",
    "- Evaluating arithmetic expressions in Python."
   ]
  },
  {
   "cell_type": "code",
   "execution_count": null,
   "id": "b723e36f-b4af-4ecf-aaf4-c970135b6041",
   "metadata": {},
   "outputs": [],
   "source": []
  },
  {
   "cell_type": "markdown",
   "id": "6a505311-6264-457b-8fa7-6c5541264585",
   "metadata": {},
   "source": [
    "Some of the popular languages that Data Scientists use are:\n",
    "1. Python\n",
    "2. R\n",
    "3. SQL"
   ]
  },
  {
   "cell_type": "markdown",
   "id": "6207ce43-85ba-47e9-8558-0d396b99199f",
   "metadata": {},
   "source": [
    "Some of the commonly used libraries used by Data Scientists include:\n",
    "1. Matplotlib\n",
    "2. NumPy\n",
    "3. TensorFlow"
   ]
  },
  {
   "cell_type": "markdown",
   "id": "d80e13d6-8217-47eb-b3f1-ad848fe0b48a",
   "metadata": {},
   "source": [
    "|Data Science Tools|\n",
    "|------|\n",
    "|Jupyter Notebook|\n",
    "|RStudio|\n",
    "|Apache Spark|\n"
   ]
  },
  {
   "cell_type": "markdown",
   "id": "bb69f72e-d2f7-407b-ab3d-300057580843",
   "metadata": {},
   "source": [
    "### Below are a few examples of evaluating arithmetic expressions in Python."
   ]
  },
  {
   "cell_type": "code",
   "execution_count": 1,
   "id": "a8341483-7b29-4f52-b6fa-69e0cca4f415",
   "metadata": {},
   "outputs": [
    {
     "data": {
      "text/plain": [
       "17"
      ]
     },
     "execution_count": 1,
     "metadata": {},
     "output_type": "execute_result"
    }
   ],
   "source": [
    "# Exercise 8 \n",
    "# This a simple arithmetic expression to mutiply then add integers\n",
    "(3*4)+5"
   ]
  },
  {
   "cell_type": "code",
   "execution_count": 3,
   "id": "acd4973d-c6c2-402f-9b8a-7230f8780302",
   "metadata": {},
   "outputs": [
    {
     "name": "stdout",
     "output_type": "stream",
     "text": [
      "3.3333333333333335\n"
     ]
    }
   ],
   "source": [
    "#Exercise 9\n",
    "#This will convert 200 minutes to hours by diving by 60\n",
    "minutes=200\n",
    "hours=minutes/60\n",
    "print(hours)"
   ]
  },
  {
   "cell_type": "markdown",
   "id": "62efedf8-2dfc-495d-800a-174eda2c5057",
   "metadata": {},
   "source": [
    "## Author\n",
    "Name : BHAVYA MATHUR"
   ]
  },
  {
   "cell_type": "code",
   "execution_count": null,
   "id": "083df076-5c8a-4d69-b19a-e4d9eb0ab0b9",
   "metadata": {},
   "outputs": [],
   "source": []
  }
 ],
 "metadata": {
  "kernelspec": {
   "display_name": "Python 3 (ipykernel)",
   "language": "python",
   "name": "python3"
  },
  "language_info": {
   "codemirror_mode": {
    "name": "ipython",
    "version": 3
   },
   "file_extension": ".py",
   "mimetype": "text/x-python",
   "name": "python",
   "nbconvert_exporter": "python",
   "pygments_lexer": "ipython3",
   "version": "3.12.4"
  }
 },
 "nbformat": 4,
 "nbformat_minor": 5
}
